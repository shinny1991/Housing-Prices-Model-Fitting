{
 "cells": [
  {
   "cell_type": "markdown",
   "metadata": {},
   "source": [
    "# Results\n",
    "- Models used with hyperparameters: Bagging, Pasting, Random Forest, Ada Bost, Gradient Boost, XG Boost, Extra Trees, Voying Regressor, Stacking Regressor\n",
    "- Best Model parameters Stacking Regressor (of 5 best models - gradient boost, XG boost, bagging with best model, pasting with best model, linear regression) with Lasso as final estimator {'n_jobs': -1, 'passthrough': False}\n",
    "- Mean Cross validation score of Best model: \n",
    "  0.8984223135004216\n",
    "- Test score of best model:\n",
    "  test mse: 715427977.6424278,\n",
    "  test rmse: 26747.485445223218,\n",
    "  test r2: 0.8958940664117991\n",
    "- Train score of best model:\n",
    "  train mse: 328542371.5328516,\n",
    "  train r2: 0.9473812911642712,\n"
   ]
  },
  {
   "cell_type": "markdown",
   "metadata": {},
   "source": [
    "## Data PreProcessing"
   ]
  },
  {
   "cell_type": "code",
   "execution_count": 1,
   "metadata": {
    "ExecuteTime": {
     "end_time": "2020-03-09T07:32:49.555666Z",
     "start_time": "2020-03-09T07:32:49.545638Z"
    }
   },
   "outputs": [],
   "source": [
    "from math import sqrt\n",
    "import pandas as pd\n",
    "import numpy as np\n",
    "import matplotlib.pyplot as plt\n",
    "import seaborn as sns\n",
    "import scipy.stats as stats\n",
    "\n",
    "pd.pandas.set_option('display.max_columns', None)\n",
    "%matplotlib inline"
   ]
  },
  {
   "cell_type": "markdown",
   "metadata": {},
   "source": [
    "### Load Datasets"
   ]
  },
  {
   "cell_type": "code",
   "execution_count": 2,
   "metadata": {
    "ExecuteTime": {
     "end_time": "2020-03-09T07:32:50.854852Z",
     "start_time": "2020-03-09T07:32:50.812739Z"
    }
   },
   "outputs": [],
   "source": [
    "# load dataset\n",
    "# your code here\n",
    "data = pd.read_csv(r'houseprice.csv')\n"
   ]
  },
  {
   "cell_type": "markdown",
   "metadata": {},
   "source": [
    "### Types of variables\n",
    "\n"
   ]
  },
  {
   "cell_type": "code",
   "execution_count": 3,
   "metadata": {
    "ExecuteTime": {
     "end_time": "2020-03-09T07:32:51.725905Z",
     "start_time": "2020-03-09T07:32:51.719889Z"
    }
   },
   "outputs": [
    {
     "name": "stdout",
     "output_type": "stream",
     "text": [
      "Number of House Id labels:  1460\n",
      "Number of Houses in the Dataset:  1460\n"
     ]
    }
   ],
   "source": [
    "# we have an Id variable, that we should not use for predictions:\n",
    "\n",
    "print('Number of House Id labels: ', len(data.Id.unique()))\n",
    "print('Number of Houses in the Dataset: ', len(data))"
   ]
  },
  {
   "cell_type": "markdown",
   "metadata": {},
   "source": [
    "#### Find categorical variables"
   ]
  },
  {
   "cell_type": "code",
   "execution_count": 4,
   "metadata": {
    "ExecuteTime": {
     "end_time": "2020-03-09T07:32:53.140553Z",
     "start_time": "2020-03-09T07:32:53.135036Z"
    }
   },
   "outputs": [
    {
     "name": "stdout",
     "output_type": "stream",
     "text": [
      "There are 43 categorical variables\n"
     ]
    }
   ],
   "source": [
    "# find categorical variables- hint data type = 'O'\n",
    "\n",
    "categorical = [var for var in data.columns if data[var].dtype=='O']\n",
    "\n",
    "print(f'There are {len(categorical)} categorical variables')"
   ]
  },
  {
   "cell_type": "markdown",
   "metadata": {},
   "source": [
    "#### Find temporal variables"
   ]
  },
  {
   "cell_type": "code",
   "execution_count": 5,
   "metadata": {
    "ExecuteTime": {
     "end_time": "2020-03-09T07:32:54.328164Z",
     "start_time": "2020-03-09T07:32:54.321146Z"
    }
   },
   "outputs": [
    {
     "data": {
      "text/plain": [
       "['YearBuilt', 'YearRemodAdd', 'GarageYrBlt', 'YrSold']"
      ]
     },
     "execution_count": 5,
     "metadata": {},
     "output_type": "execute_result"
    }
   ],
   "source": [
    "# make a list of the numerical variables first= Hint data type != O\n",
    "numerical = [var for var in data.columns if data[var].dtype!='O']\n",
    "\n",
    "# list of variables that contain year information= Hint variable namme has Yr or \n",
    "year_vars = [var for var in numerical if 'Yr' in var or 'Year' in var]\n",
    "\n",
    "year_vars"
   ]
  },
  {
   "cell_type": "markdown",
   "metadata": {},
   "source": [
    "#### Find discrete variables\n",
    "\n",
    "To identify discrete variables- numerical variables with less than 20 unique values "
   ]
  },
  {
   "cell_type": "code",
   "execution_count": 6,
   "metadata": {
    "ExecuteTime": {
     "end_time": "2020-03-09T07:32:55.849304Z",
     "start_time": "2020-03-09T07:32:55.835765Z"
    }
   },
   "outputs": [
    {
     "name": "stdout",
     "output_type": "stream",
     "text": [
      "There are 14 discrete variables\n"
     ]
    }
   ],
   "source": [
    "# let's visualise the values of the discrete variables\n",
    "discrete = [var for var in numerical if len(data[var].unique()) < 20 and var not in year_vars]\n",
    "\n",
    "print(f'There are {len(discrete)} discrete variables')"
   ]
  },
  {
   "cell_type": "markdown",
   "metadata": {},
   "source": [
    "#### Continuous variables"
   ]
  },
  {
   "cell_type": "code",
   "execution_count": 7,
   "metadata": {
    "ExecuteTime": {
     "end_time": "2020-03-09T07:32:57.274949Z",
     "start_time": "2020-03-09T07:32:57.268932Z"
    }
   },
   "outputs": [
    {
     "name": "stdout",
     "output_type": "stream",
     "text": [
      "There are 38 numerical and continuous variables\n"
     ]
    }
   ],
   "source": [
    "# find continuous variables- hint numerical variables not in discrete and  year_years \n",
    "# Also remove the Id variable and the target variable SalePrice\n",
    "# which are both also numerical\n",
    "\n",
    "continuous = [var for var in numerical if var not in discrete and var not in [\n",
    "    'Id', 'SalePrice'] and var not in year_vars]\n",
    "\n",
    "print('There are {} numerical and continuous variables'.format(len(numerical)))"
   ]
  },
  {
   "cell_type": "markdown",
   "metadata": {},
   "source": [
    "### Separate train and test set"
   ]
  },
  {
   "cell_type": "code",
   "execution_count": 8,
   "metadata": {
    "ExecuteTime": {
     "end_time": "2020-03-09T07:32:58.666697Z",
     "start_time": "2020-03-09T07:32:58.651653Z"
    }
   },
   "outputs": [
    {
     "data": {
      "text/plain": [
       "((1314, 79), (146, 79))"
      ]
     },
     "execution_count": 8,
     "metadata": {},
     "output_type": "execute_result"
    }
   ],
   "source": [
    "# Let's separate into train and test set\n",
    "from sklearn.model_selection import train_test_split\n",
    "X_train, X_test, y_train, y_test = train_test_split(data.drop(['Id', 'SalePrice'], axis=1),\n",
    "                                                    data['SalePrice'],\n",
    "                                                    test_size=0.1,\n",
    "                                                    random_state=0)\n",
    "\n",
    "X_train.shape, X_test.shape"
   ]
  },
  {
   "cell_type": "markdown",
   "metadata": {},
   "source": [
    "**Now we will move on and engineer the features of this dataset. The most important part for this course.**"
   ]
  },
  {
   "cell_type": "markdown",
   "metadata": {},
   "source": [
    "### Craete New Variables\n",
    "\n",
    "Replace 'YearBuilt', 'YearRemodAdd', 'GarageYrBlt  with time elapsed since YrSold\n",
    "So YearBuilt = YrSold-YearBuilt. \n",
    "\n",
    "Similarly transform 'YearRemodAdd', 'GarageYrBlt.\n",
    "After making transformation drop YrSold"
   ]
  },
  {
   "cell_type": "code",
   "execution_count": 9,
   "metadata": {
    "ExecuteTime": {
     "end_time": "2020-03-09T07:33:00.776674Z",
     "start_time": "2020-03-09T07:33:00.771663Z"
    }
   },
   "outputs": [],
   "source": [
    "# function to calculate elapsed time\n",
    "\n",
    "def elapsed_years(df, var):\n",
    "    # capture difference between year variable and\n",
    "    # year the house was sold\n",
    "    \n",
    "    df[var] = df['YrSold'] - df[var]\n",
    "    return df"
   ]
  },
  {
   "cell_type": "code",
   "execution_count": 10,
   "metadata": {
    "ExecuteTime": {
     "end_time": "2020-03-09T07:33:02.547542Z",
     "start_time": "2020-03-09T07:33:02.540522Z"
    }
   },
   "outputs": [],
   "source": [
    "for var in ['YearBuilt', 'YearRemodAdd', 'GarageYrBlt']:\n",
    "    X_train = elapsed_years(X_train, var)\n",
    "    X_test = elapsed_years(X_test, var)"
   ]
  },
  {
   "cell_type": "code",
   "execution_count": 11,
   "metadata": {
    "ExecuteTime": {
     "end_time": "2020-03-09T07:33:03.567722Z",
     "start_time": "2020-03-09T07:33:03.559698Z"
    }
   },
   "outputs": [],
   "source": [
    "# drop YrSold\n",
    "X_train.drop('YrSold', axis=1, inplace=True)\n",
    "X_test.drop('YrSold', axis=1, inplace=True)"
   ]
  },
  {
   "cell_type": "code",
   "execution_count": 12,
   "metadata": {
    "ExecuteTime": {
     "end_time": "2020-03-09T07:33:04.982369Z",
     "start_time": "2020-03-09T07:33:04.978849Z"
    }
   },
   "outputs": [],
   "source": [
    "year_vars.remove('YrSold')"
   ]
  },
  {
   "cell_type": "code",
   "execution_count": 13,
   "metadata": {
    "ExecuteTime": {
     "end_time": "2020-03-09T07:33:05.869066Z",
     "start_time": "2020-03-09T07:33:05.863050Z"
    }
   },
   "outputs": [
    {
     "data": {
      "text/plain": [
       "Index(['MSSubClass', 'MSZoning', 'LotFrontage', 'LotArea', 'Street', 'Alley',\n",
       "       'LotShape', 'LandContour', 'Utilities', 'LotConfig', 'LandSlope',\n",
       "       'Neighborhood', 'Condition1', 'Condition2', 'BldgType', 'HouseStyle',\n",
       "       'OverallQual', 'OverallCond', 'YearBuilt', 'YearRemodAdd', 'RoofStyle',\n",
       "       'RoofMatl', 'Exterior1st', 'Exterior2nd', 'MasVnrType', 'MasVnrArea',\n",
       "       'ExterQual', 'ExterCond', 'Foundation', 'BsmtQual', 'BsmtCond',\n",
       "       'BsmtExposure', 'BsmtFinType1', 'BsmtFinSF1', 'BsmtFinType2',\n",
       "       'BsmtFinSF2', 'BsmtUnfSF', 'TotalBsmtSF', 'Heating', 'HeatingQC',\n",
       "       'CentralAir', 'Electrical', '1stFlrSF', '2ndFlrSF', 'LowQualFinSF',\n",
       "       'GrLivArea', 'BsmtFullBath', 'BsmtHalfBath', 'FullBath', 'HalfBath',\n",
       "       'BedroomAbvGr', 'KitchenAbvGr', 'KitchenQual', 'TotRmsAbvGrd',\n",
       "       'Functional', 'Fireplaces', 'FireplaceQu', 'GarageType', 'GarageYrBlt',\n",
       "       'GarageFinish', 'GarageCars', 'GarageArea', 'GarageQual', 'GarageCond',\n",
       "       'PavedDrive', 'WoodDeckSF', 'OpenPorchSF', 'EnclosedPorch', '3SsnPorch',\n",
       "       'ScreenPorch', 'PoolArea', 'PoolQC', 'Fence', 'MiscFeature', 'MiscVal',\n",
       "       'MoSold', 'SaleType', 'SaleCondition'],\n",
       "      dtype='object')"
      ]
     },
     "execution_count": 13,
     "metadata": {},
     "output_type": "execute_result"
    }
   ],
   "source": [
    "# capture the column names for use later in the notebook\n",
    "final_columns = X_train.columns\n",
    "final_columns"
   ]
  },
  {
   "cell_type": "markdown",
   "metadata": {},
   "source": [
    "### Feature Engineering Pipeline"
   ]
  },
  {
   "cell_type": "code",
   "execution_count": 14,
   "metadata": {
    "ExecuteTime": {
     "end_time": "2020-03-09T07:33:07.930697Z",
     "start_time": "2020-03-09T07:33:07.909638Z"
    }
   },
   "outputs": [],
   "source": [
    "# I will treat discrete variables as if they were categorical\n",
    "# to treat discrete as categorical using Feature-engine\n",
    "# we need to re-cast them as object\n",
    "\n",
    "X_train[discrete] = X_train[discrete].astype('O')\n",
    "X_test[discrete] = X_test[discrete].astype('O')"
   ]
  },
  {
   "cell_type": "code",
   "execution_count": 15,
   "metadata": {
    "ExecuteTime": {
     "end_time": "2020-03-09T07:33:10.023580Z",
     "start_time": "2020-03-09T07:33:10.018569Z"
    }
   },
   "outputs": [],
   "source": [
    "# import relevant modules for feature engineering\n",
    "from sklearn.pipeline import Pipeline\n",
    "from sklearn.preprocessing import StandardScaler\n",
    "from feature_engine import missing_data_imputers as mdi\n",
    "from feature_engine import categorical_encoders as ce\n",
    "from feature_engine.variable_transformers import YeoJohnsonTransformer\n",
    "from sklearn.preprocessing import StandardScaler\n",
    "from feature_engine.discretisers import DecisionTreeDiscretiser"
   ]
  },
  {
   "cell_type": "code",
   "execution_count": 16,
   "metadata": {
    "ExecuteTime": {
     "end_time": "2020-03-09T07:33:11.578215Z",
     "start_time": "2020-03-09T07:33:11.570194Z"
    }
   },
   "outputs": [],
   "source": [
    "house_preprocess = Pipeline([\n",
    "    \n",
    "    # missing data imputation \n",
    "    ('missing_ind', mdi.AddNaNBinaryImputer(\n",
    "        variables=['LotFrontage', 'MasVnrArea',  'GarageYrBlt'])),\n",
    "    ('imputer_num', mdi.MeanMedianImputer(imputation_method='mean',\n",
    "                                          variables=['LotFrontage', 'MasVnrArea',  'GarageYrBlt'])),\n",
    "    ('imputer_cat', mdi.CategoricalVariableImputer(variables=categorical)),\n",
    "\n",
    "    # categorical encoding \n",
    "     ('rare_label_enc', ce.RareLabelCategoricalEncoder(\n",
    "         tol=0.01,n_categories=6, variables=categorical+discrete)),\n",
    "    ('categorical_enc', ce.MeanCategoricalEncoder(variables = categorical + discrete)),\n",
    "     \n",
    "    # Transforming Numerical Variables\n",
    "    ('yjt', YeoJohnsonTransformer(variables = ['LotFrontage','MasVnrArea', 'GarageYrBlt'])),\n",
    "\n",
    "    \n",
    "    # discretisation and encoding\n",
    "    ('treeDisc',  DecisionTreeDiscretiser(cv=2, scoring='neg_mean_squared_error',\n",
    "                                   regression=True,\n",
    "                                   param_grid={'max_depth': [1,2,3,4,5,6]})),\n",
    "\n",
    "    # feature Scaling\n",
    "    ('scaler', StandardScaler()),\n",
    "    \n",
    "    \n",
    "\n",
    "])"
   ]
  },
  {
   "cell_type": "code",
   "execution_count": 17,
   "metadata": {
    "ExecuteTime": {
     "end_time": "2020-03-09T07:33:18.934597Z",
     "start_time": "2020-03-09T07:33:15.096006Z"
    }
   },
   "outputs": [
    {
     "data": {
      "text/plain": [
       "Pipeline(memory=None,\n",
       "         steps=[('missing_ind',\n",
       "                 AddNaNBinaryImputer(variables=['LotFrontage', 'MasVnrArea',\n",
       "                                                'GarageYrBlt'])),\n",
       "                ('imputer_num',\n",
       "                 MeanMedianImputer(imputation_method='mean',\n",
       "                                   variables=['LotFrontage', 'MasVnrArea',\n",
       "                                              'GarageYrBlt'])),\n",
       "                ('imputer_cat',\n",
       "                 CategoricalVariableImputer(variables=['MSZoning', 'Street',\n",
       "                                                       'Alley', 'LotShape',\n",
       "                                                       'LandContour',\n",
       "                                                       'Utilities', '...\n",
       "                                                    'Utilities', 'LotConfig',\n",
       "                                                    'LandSlope', 'Neighborhood',\n",
       "                                                    'Condition1', 'Condition2',\n",
       "                                                    'BldgType', 'HouseStyle',\n",
       "                                                    'OverallQual',\n",
       "                                                    'OverallCond', 'YearBuilt',\n",
       "                                                    'YearRemodAdd', 'RoofStyle',\n",
       "                                                    'RoofMatl', 'Exterior1st',\n",
       "                                                    'Exterior2nd', 'MasVnrType',\n",
       "                                                    'MasVnrArea', 'ExterQual',\n",
       "                                                    'ExterCond', 'Foundation',\n",
       "                                                    'BsmtQual', ...])),\n",
       "                ('scaler',\n",
       "                 StandardScaler(copy=True, with_mean=True, with_std=True))],\n",
       "         verbose=False)"
      ]
     },
     "execution_count": 17,
     "metadata": {},
     "output_type": "execute_result"
    }
   ],
   "source": [
    "house_preprocess.fit(X_train,y_train)"
   ]
  },
  {
   "cell_type": "code",
   "execution_count": 18,
   "metadata": {
    "ExecuteTime": {
     "end_time": "2020-03-09T07:33:21.351997Z",
     "start_time": "2020-03-09T07:33:20.885744Z"
    }
   },
   "outputs": [],
   "source": [
    "# Apply Transformations\n",
    "X_train=house_preprocess.transform(X_train)\n",
    "X_test=house_preprocess.transform(X_test)"
   ]
  },
  {
   "cell_type": "markdown",
   "metadata": {},
   "source": [
    "## <span class=\"mark\">DO NOT CHANGE STEPS BEFORE THIS POINT</span>"
   ]
  },
  {
   "cell_type": "markdown",
   "metadata": {
    "ExecuteTime": {
     "end_time": "2020-03-09T04:00:12.095764Z",
     "start_time": "2020-03-09T04:00:12.093253Z"
    }
   },
   "source": [
    "## Regression Models- Tune different models one by one"
   ]
  },
  {
   "cell_type": "code",
   "execution_count": 19,
   "metadata": {},
   "outputs": [],
   "source": [
    "from sklearn.preprocessing import MinMaxScaler\n",
    "from sklearn.pipeline import Pipeline\n",
    "from sklearn.metrics import mean_squared_error, r2_score\n",
    "from math import sqrt\n",
    "\n",
    "#Linear Regression\n",
    "from sklearn.linear_model import LinearRegression\n",
    "#Cross Validation\n",
    "from sklearn.model_selection import cross_validate\n",
    "from sklearn.model_selection import cross_val_score\n",
    "#leave one out\n",
    "from sklearn.model_selection import LeaveOneOut\n",
    "#SGD\n",
    "from sklearn.linear_model import SGDRegressor\n",
    "#SGD with Grid Search and CV\n",
    "from sklearn.model_selection import GridSearchCV\n",
    "#Polynomial Features\n",
    "from sklearn.preprocessing  import PolynomialFeatures\n",
    "#Ridge, Lasso, ElasticNet\n",
    "from sklearn.linear_model import Ridge\n",
    "from sklearn.linear_model import Lasso\n",
    "from sklearn.linear_model import ElasticNet\n",
    "#KNN\n",
    "from sklearn.neighbors import KNeighborsRegressor\n",
    "#decision tree\n",
    "from sklearn.tree import DecisionTreeRegressor\n",
    "#SVM\n",
    "from sklearn.svm import SVR,LinearSVR"
   ]
  },
  {
   "cell_type": "code",
   "execution_count": 20,
   "metadata": {},
   "outputs": [],
   "source": [
    "#Different models and their pipelines\n",
    "\n",
    "model_gs = Pipeline([\n",
    "    (\"regressor\", LinearRegression())])\n",
    "model_sgd=Pipeline([('scaler', MinMaxScaler()),(\"sgd_reg\", SGDRegressor(max_iter=10000, tol = 1e-6))])\n",
    "model_poly=Pipeline([('polynomialfeatures', PolynomialFeatures()),   \n",
    "                     ('scaler',MinMaxScaler()),\n",
    "                     ('norm_reg', LinearRegression())])\n",
    "model_knn=Pipeline([ \n",
    "    ('scaler',MinMaxScaler()),\n",
    "    ('knnreg', KNeighborsRegressor())])\n",
    "model_decision_tree=Pipeline([(\"opt_tree\",DecisionTreeRegressor(random_state = 0))])\n",
    "model_svr = Pipeline([(\"svr\", LinearSVR())])\n",
    "model_svr_kern = Pipeline([(\"svr_kern\", SVR())])"
   ]
  },
  {
   "cell_type": "code",
   "execution_count": 21,
   "metadata": {},
   "outputs": [],
   "source": [
    "#Different hyperparameters for different models\n",
    "\n",
    "model_parm_gd = [\n",
    "    {'regressor': [LinearRegression()]},\n",
    "    \n",
    "    { 'regressor': [Ridge()],\n",
    "      'regressor__alpha':[0.001, 0.01, 0.1, 1, 10, 100,200,300,400,500,700,1000] },\n",
    "    \n",
    "    {'regressor': [Lasso(random_state=0)],\n",
    "      'regressor__alpha':[0.001, 0.01, 0.1, 1, 10, 100,200,750,800,900,1000]},\n",
    "    \n",
    "    {'regressor': [ElasticNet()],\n",
    "      'regressor__alpha':[0.00001, 0.0001, 0.001, 0.01, 0.1, 1, 10], 'regressor__l1_ratio' :[0.2,0.4,0.6,0.8]}\n",
    "]\n",
    "\n",
    "model_sgd_parm=[\n",
    "   { 'sgd_reg': [SGDRegressor()],\n",
    "   'sgd_reg__eta0':[0.01, 0.05, 0.1 ,0.5] , 'sgd_reg__penalty' :['l1','l2'],'sgd_reg__alpha' :[0.1,0.01,0.001]\n",
    "   },\n",
    "   { 'sgd_reg': [SGDRegressor()],\n",
    "    'sgd_reg__eta0':[0.01, 0.05, 0.1 ,0.5]}\n",
    "]\n",
    "\n",
    "model_poly_parm = {'polynomialfeatures__degree':range(1,3)}\n",
    "\n",
    "model_knn_parm = {'knnreg__n_neighbors': range(1,25)}\n",
    "\n",
    "model_dt_parm = {\"opt_tree__max_depth\": range(1,6),\n",
    "           \"opt_tree__min_samples_split\": range(2,9),\n",
    "           \"opt_tree__max_leaf_nodes\": range(2,8)}\n",
    "\n",
    "model_svr_parm = [{'svr_kern': [SVR(kernel='rbf')], #36 combinations\n",
    "               'svr_kern__C': [0.001, 0.01, 0.1, 1, 10, 100],\n",
    "               'svr_kern__gamma': [0.001, 0.01, 0.1, 1, 10, 100],\n",
    "                'svr_kern__epsilon': [0.001, 0.01, 0.1, 1]},\n",
    "                  \n",
    "              {'svr_kern': [SVR(kernel='linear')], #6 combinations\n",
    "               'svr_kern__C': [0.001, 0.01, 0.1, 1, 10, 100]},\n",
    "                  \n",
    "                {'svr_kern': [SVR(kernel='poly')], #6 combinations\n",
    "               'svr_kern__C': [0.001, 0.01, 0.1, 1, 10, 100],\n",
    "                'svr_kern__gamma': [0.001, 0.01, 0.1, 1, 10, 100],\n",
    "                'svr_kern__degree': [2,3]},\n",
    "                  \n",
    "                 {'svr_kern': [SVR(kernel='sigmoid')], #6 combinations\n",
    "               'svr_kern__C': [0.001, 0.01, 0.1, 1, 10, 100],\n",
    "                'svr_kern__gamma': [0.001, 0.01, 0.1, 1, 10, 100]}]"
   ]
  },
  {
   "cell_type": "code",
   "execution_count": 22,
   "metadata": {},
   "outputs": [
    {
     "name": "stdout",
     "output_type": "stream",
     "text": [
      "{'regressor': Lasso(alpha=750, copy_X=True, fit_intercept=True, max_iter=1000,\n",
      "      normalize=False, positive=False, precompute=False, random_state=0,\n",
      "      selection='cyclic', tol=0.0001, warm_start=False), 'regressor__alpha': 750}\n",
      "0.8854256400791181\n",
      "train mse: 581954026.6972942\n"
     ]
    }
   ],
   "source": [
    "import warnings\n",
    "warnings.filterwarnings(\"ignore\")\n",
    "\n",
    "#Linear Regression with regularization (lasso, ridge, elasticnet)\n",
    "\n",
    "grid_search_housereg_pipe = GridSearchCV(model_gs, model_parm_gd,cv=5)\n",
    "grid_search_housereg_pipe.fit(X_train,y_train)\n",
    "\n",
    "#best cv score, best parameters, MSE train\n",
    "print(grid_search_housereg_pipe.best_params_)\n",
    "print(grid_search_housereg_pipe.best_score_)\n",
    "X_train_predreg = grid_search_housereg_pipe.predict(X_train)\n",
    "print('train mse: {}'.format(mean_squared_error(y_train, X_train_predreg)))"
   ]
  },
  {
   "cell_type": "code",
   "execution_count": 23,
   "metadata": {},
   "outputs": [
    {
     "name": "stdout",
     "output_type": "stream",
     "text": [
      "{'sgd_reg': SGDRegressor(alpha=0.001, average=False, early_stopping=False, epsilon=0.1,\n",
      "             eta0=0.05, fit_intercept=True, l1_ratio=0.15,\n",
      "             learning_rate='invscaling', loss='squared_loss', max_iter=1000,\n",
      "             n_iter_no_change=5, penalty='l2', power_t=0.25, random_state=None,\n",
      "             shuffle=True, tol=0.001, validation_fraction=0.1, verbose=0,\n",
      "             warm_start=False), 'sgd_reg__alpha': 0.001, 'sgd_reg__eta0': 0.05, 'sgd_reg__penalty': 'l2'}\n",
      "0.8795179612484019\n",
      "train mse: 649658611.3148422\n"
     ]
    }
   ],
   "source": [
    "#SGD with and without regularization\n",
    "\n",
    "grid_search_housesgd_pipe=GridSearchCV(model_sgd, model_sgd_parm,cv=5, n_jobs=-1, return_train_score = True)\n",
    "grid_search_housesgd_pipe.fit(X_train,y_train)\n",
    "\n",
    "#best cv score, best parameters, MSE train\n",
    "print(grid_search_housesgd_pipe.best_params_)\n",
    "print(grid_search_housesgd_pipe.best_score_)\n",
    "X_train_predsgd = grid_search_housesgd_pipe.predict(X_train)\n",
    "print('train mse: {}'.format(mean_squared_error(y_train, X_train_predsgd)))"
   ]
  },
  {
   "cell_type": "code",
   "execution_count": 24,
   "metadata": {},
   "outputs": [
    {
     "name": "stdout",
     "output_type": "stream",
     "text": [
      "{'polynomialfeatures__degree': 2}\n",
      "-6.1136310956406974e+32\n",
      "train mse: 27574.586567732116\n"
     ]
    }
   ],
   "source": [
    "#Polynomial regression with parameters\n",
    "\n",
    "grid_search_housepoly_pipe=GridSearchCV(model_poly,model_poly_parm,cv=5, n_jobs=-1, return_train_score = True,scoring='neg_mean_squared_error')\n",
    "grid_search_housepoly_pipe.fit(X_train,y_train)\n",
    "\n",
    "#best cv score, best parameters, MSE train\n",
    "print(grid_search_housepoly_pipe.best_params_)\n",
    "print(grid_search_housepoly_pipe.best_score_)\n",
    "X_train_predpoly = grid_search_housepoly_pipe.predict(X_train)\n",
    "print('train mse: {}'.format(mean_squared_error(y_train, X_train_predpoly)))"
   ]
  },
  {
   "cell_type": "code",
   "execution_count": 25,
   "metadata": {},
   "outputs": [
    {
     "name": "stdout",
     "output_type": "stream",
     "text": [
      "{'knnreg__n_neighbors': 6}\n",
      "0.78587417331835\n",
      "train mse: 926540858.0310757\n"
     ]
    }
   ],
   "source": [
    "#knn regression\n",
    "\n",
    "grid_search_houseknn_pipe = GridSearchCV(model_knn, model_knn_parm, cv=5, return_train_score=True)\n",
    "grid_search_houseknn_pipe.fit(X_train,y_train)\n",
    "\n",
    "#best cv score, best parameters, MSE train\n",
    "print(grid_search_houseknn_pipe.best_params_)\n",
    "print(grid_search_houseknn_pipe.best_score_)\n",
    "X_train_predknn = grid_search_houseknn_pipe.predict(X_train)\n",
    "print('train mse: {}'.format(mean_squared_error(y_train, X_train_predknn)))"
   ]
  },
  {
   "cell_type": "code",
   "execution_count": 26,
   "metadata": {},
   "outputs": [
    {
     "name": "stdout",
     "output_type": "stream",
     "text": [
      "{'opt_tree__max_depth': 4, 'opt_tree__max_leaf_nodes': 7, 'opt_tree__min_samples_split': 2}\n",
      "0.6587712080710382\n",
      "train mse: 1740418235.6455297\n"
     ]
    }
   ],
   "source": [
    "#Decision Tree Regression\n",
    "\n",
    "grid_search_housedt_pipe = GridSearchCV(model_decision_tree,model_dt_parm,cv=5)\n",
    "grid_search_housedt_pipe.fit(X_train,y_train)\n",
    "\n",
    "#best cv score, best parameters, MSE train\n",
    "print(grid_search_housedt_pipe.best_params_)\n",
    "print(grid_search_housedt_pipe.best_score_)\n",
    "X_train_preddt = grid_search_housedt_pipe.predict(X_train)\n",
    "print('train mse: {}'.format(mean_squared_error(y_train, X_train_preddt)))"
   ]
  },
  {
   "cell_type": "code",
   "execution_count": 27,
   "metadata": {},
   "outputs": [
    {
     "name": "stdout",
     "output_type": "stream",
     "text": [
      "Mean Cross-validation scores: -5.260634746826605\n"
     ]
    }
   ],
   "source": [
    "#LinearSVR\n",
    "import warnings\n",
    "warnings.filterwarnings(\"ignore\")\n",
    "\n",
    "model_svr.fit(X_train,y_train)\n",
    "cv_scores_svc = cross_val_score(model_svr, X_train, y_train)\n",
    "print(\"Mean Cross-validation scores: {}\".format(cv_scores_svc.mean()))"
   ]
  },
  {
   "cell_type": "code",
   "execution_count": 28,
   "metadata": {},
   "outputs": [
    {
     "name": "stdout",
     "output_type": "stream",
     "text": [
      "{'svr_kern': SVR(C=100, cache_size=200, coef0=0.0, degree=3, epsilon=0.1, gamma='scale',\n",
      "    kernel='linear', max_iter=-1, shrinking=True, tol=0.001, verbose=False), 'svr_kern__C': 100}\n",
      "0.8778845875884291\n",
      "train mse: 666775306.6409111\n"
     ]
    }
   ],
   "source": [
    "#Support Vector Machine - Kernel\n",
    "\n",
    "grid_search_housesvr_pipe = GridSearchCV(model_svr_kern,model_svr_parm,cv=5)\n",
    "grid_search_housesvr_pipe.fit(X_train,y_train)\n",
    "\n",
    "#best cv score, best parameters, MSE train\n",
    "print(grid_search_housesvr_pipe.best_params_)\n",
    "print(grid_search_housesvr_pipe.best_score_)\n",
    "X_train_predsvr = grid_search_housesvr_pipe.predict(X_train)\n",
    "print('train mse: {}'.format(mean_squared_error(y_train, X_train_predsvr)))"
   ]
  },
  {
   "cell_type": "code",
   "execution_count": 29,
   "metadata": {},
   "outputs": [
    {
     "name": "stdout",
     "output_type": "stream",
     "text": [
      "test mse: 788432890.199148\n",
      "test rmse: 28079.04717398986\n",
      "test r2: 0.8852707125372588\n",
      "train r2: 0.9067953721046815\n"
     ]
    }
   ],
   "source": [
    "#Using Lasso Regression at alpha value 750 to find test accuracy\n",
    "\n",
    "X_test_predreg = grid_search_housereg_pipe.predict(X_test)\n",
    "print('test mse: {}'.format(mean_squared_error(y_test, X_test_predreg)))\n",
    "print('test rmse: {}'.format(sqrt(mean_squared_error(y_test, X_test_predreg))))\n",
    "print('test r2: {}'.format(r2_score(y_test, X_test_predreg)))\n",
    "\n",
    "print('train r2: {}'.format(r2_score(y_train, X_train_predreg)))"
   ]
  },
  {
   "cell_type": "markdown",
   "metadata": {},
   "source": [
    "### HW3"
   ]
  },
  {
   "cell_type": "code",
   "execution_count": 30,
   "metadata": {},
   "outputs": [],
   "source": [
    "#importing bagging regressor\n",
    "from sklearn.ensemble import BaggingRegressor\n",
    "from sklearn.ensemble import RandomForestRegressor\n",
    "from sklearn.ensemble import AdaBoostRegressor\n",
    "from sklearn.ensemble import GradientBoostingRegressor\n",
    "from xgboost import XGBRegressor\n",
    "from sklearn.tree import ExtraTreeRegressor"
   ]
  },
  {
   "cell_type": "code",
   "execution_count": 31,
   "metadata": {},
   "outputs": [],
   "source": [
    "best_model = Lasso(alpha=750)\n",
    "model_bag_best = Pipeline([(\"bag_reg\", BaggingRegressor(Lasso(alpha=750)))])\n",
    "model_bag_dt = Pipeline([(\"bag_reg\", BaggingRegressor(DecisionTreeRegressor(max_depth=4, max_leaf_nodes=7, min_samples_split=2,random_state = 0), bootstrap=True))])\n",
    "model_pasting_best = Pipeline([(\"bag_reg\", BaggingRegressor(Lasso(alpha=750), bootstrap=False))])\n",
    "model_pasting_dt = Pipeline([(\"bag_reg\", BaggingRegressor(DecisionTreeRegressor(max_depth=4, max_leaf_nodes=7, min_samples_split=2,random_state = 0), bootstrap=False))])\n",
    "model_random_forest = Pipeline([(\"random_forest\", RandomForestRegressor(n_jobs=-1, random_state=0))])"
   ]
  },
  {
   "cell_type": "code",
   "execution_count": 32,
   "metadata": {},
   "outputs": [],
   "source": [
    "model_ada_dt = AdaBoostRegressor(DecisionTreeRegressor(max_depth=4, max_leaf_nodes=7, min_samples_split=2,random_state = 0),random_state=0)\n",
    "model_ada_svr = AdaBoostRegressor(SVR(kernel='linear', C=100), random_state=0)\n",
    "model_gbr = GradientBoostingRegressor()\n",
    "model_xgboost = XGBRegressor()\n",
    "model_etc = ExtraTreeRegressor(random_state=0)"
   ]
  },
  {
   "cell_type": "code",
   "execution_count": 44,
   "metadata": {},
   "outputs": [],
   "source": [
    "bag_best_params = [\n",
    "   {\n",
    "    'bag_reg__n_estimators':[500] , \n",
    "    'bag_reg__max_samples' :[100,200,400,600]\n",
    "   }\n",
    "]\n",
    "\n",
    "random_forest_params = [\n",
    "    {\n",
    "        'random_forest__n_estimators': [500],\n",
    "        'random_forest__max_leaf_nodes': [10,30],\n",
    "        'random_forest__max_features': [10,30,50],\n",
    "        'random_forest__max_depth': [10,15,20]\n",
    "    }\n",
    "]\n",
    "\n",
    "ada_boost_params = [\n",
    "    {\n",
    "        'n_estimators': [200],\n",
    "        'learning_rate': [0.1,0.5,0.8,1,10]\n",
    "    }\n",
    "]\n",
    "\n",
    "gbr_params = [\n",
    "    {\n",
    "        'max_depth': [2,4,6],\n",
    "        'n_estimators': [200],\n",
    "        'learning_rate': [0.01,0.1,1,10]\n",
    "    }\n",
    "]\n",
    "\n",
    "xgboost_params = [\n",
    "    {\n",
    "        'learning_rate': [0.01,0.1],\n",
    "        'max_depth': [2,4,6],\n",
    "        'n_estimators': [500]\n",
    "    }\n",
    "]\n",
    "\n",
    "etc_params = [\n",
    "    {\n",
    "        'criterion': ['mse', 'friedman_mse', 'mae'],\n",
    "        'splitter': ['random', 'best'],\n",
    "        'max_depth': [2,4,6],\n",
    "        'max_features': ['auto', 'sqrt', 'log2'],\n",
    "    }\n",
    "]"
   ]
  },
  {
   "cell_type": "code",
   "execution_count": 34,
   "metadata": {},
   "outputs": [
    {
     "name": "stdout",
     "output_type": "stream",
     "text": [
      "{'bag_reg__max_samples': 100, 'bag_reg__n_estimators': 500}\n",
      "0.8886642071963831\n",
      "train mse: 631988848.1816771\n",
      "train r2: 0.8987818921658507\n",
      "test mse: 880190130.6181058\n",
      "test rmse: 29667.99842621854\n",
      "test r2: 0.8719186023657064\n"
     ]
    }
   ],
   "source": [
    "#Bagging with lasso alpha = 750\n",
    "\n",
    "grid_search_bag = GridSearchCV(model_bag_best,bag_best_params, cv=5)\n",
    "grid_search_bag.fit(X_train,y_train)\n",
    "\n",
    "#best cv score, best parameters, MSE train\n",
    "print(grid_search_bag.best_params_)\n",
    "print(grid_search_bag.best_score_)\n",
    "X_train_pred = grid_search_bag.predict(X_train)\n",
    "print('train mse: {}'.format(mean_squared_error(y_train, X_train_pred)))\n",
    "print('train r2: {}'.format(r2_score(y_train, X_train_pred)))\n",
    "x_testpred = grid_search_bag.predict(X_test)\n",
    "print('test mse: {}'.format(mean_squared_error(y_test, x_testpred)))\n",
    "print('test rmse: {}'.format(sqrt(mean_squared_error(y_test, x_testpred))))\n",
    "print('test r2: {}'.format(r2_score(y_test, x_testpred)))"
   ]
  },
  {
   "cell_type": "code",
   "execution_count": 35,
   "metadata": {},
   "outputs": [
    {
     "name": "stdout",
     "output_type": "stream",
     "text": [
      "{'bag_reg__max_samples': 100, 'bag_reg__n_estimators': 500}\n",
      "0.7996634242055343\n",
      "train mse: 1162255429.7249367\n",
      "train r2: 0.8138554252101202\n",
      "test mse: 1622573227.781437\n",
      "test rmse: 40281.17709031647\n",
      "test r2: 0.7638902783057875\n"
     ]
    }
   ],
   "source": [
    "#bagging with decision tree\n",
    "\n",
    "grid_search_bag_dt = GridSearchCV(model_bag_dt,bag_best_params, cv=5)\n",
    "grid_search_bag_dt.fit(X_train,y_train)\n",
    "\n",
    "#best cv score, best parameters, MSE train\n",
    "print(grid_search_bag_dt.best_params_)\n",
    "print(grid_search_bag_dt.best_score_)\n",
    "X_train_pred = grid_search_bag_dt.predict(X_train)\n",
    "print('train mse: {}'.format(mean_squared_error(y_train, X_train_pred)))\n",
    "print('train r2: {}'.format(r2_score(y_train, X_train_pred)))\n",
    "x_testpred = grid_search_bag_dt.predict(X_test)\n",
    "print('test mse: {}'.format(mean_squared_error(y_test, x_testpred)))\n",
    "print('test rmse: {}'.format(sqrt(mean_squared_error(y_test, x_testpred))))\n",
    "print('test r2: {}'.format(r2_score(y_test, x_testpred)))"
   ]
  },
  {
   "cell_type": "code",
   "execution_count": 36,
   "metadata": {},
   "outputs": [
    {
     "name": "stdout",
     "output_type": "stream",
     "text": [
      "{'bag_reg__max_samples': 200, 'bag_reg__n_estimators': 500}\n",
      "0.8876003789738238\n",
      "train mse: 600284956.7546918\n",
      "train r2: 0.9038595259096289\n",
      "test mse: 855788152.7335391\n",
      "test rmse: 29253.85705737859\n",
      "test r2: 0.8754694708926025\n"
     ]
    }
   ],
   "source": [
    "# pasting with best model lasso alpha = 750\n",
    "\n",
    "grid_search_pasting = GridSearchCV(model_pasting_best,bag_best_params, cv=5)\n",
    "grid_search_pasting.fit(X_train,y_train)\n",
    "\n",
    "#best cv score, best parameters, MSE train\n",
    "print(grid_search_pasting.best_params_)\n",
    "print(grid_search_pasting.best_score_)\n",
    "X_train_pred = grid_search_pasting.predict(X_train)\n",
    "print('train mse: {}'.format(mean_squared_error(y_train, X_train_pred)))\n",
    "print('train r2: {}'.format(r2_score(y_train, X_train_pred)))\n",
    "x_testpred = grid_search_pasting.predict(X_test)\n",
    "print('test mse: {}'.format(mean_squared_error(y_test, x_testpred)))\n",
    "print('test rmse: {}'.format(sqrt(mean_squared_error(y_test, x_testpred))))\n",
    "print('test r2: {}'.format(r2_score(y_test, x_testpred)))"
   ]
  },
  {
   "cell_type": "code",
   "execution_count": 37,
   "metadata": {},
   "outputs": [
    {
     "name": "stdout",
     "output_type": "stream",
     "text": [
      "{'bag_reg__max_samples': 100, 'bag_reg__n_estimators': 500}\n",
      "0.7981706756364672\n",
      "train mse: 1136810361.9047039\n",
      "train r2: 0.8179306579074782\n",
      "test mse: 1572748103.6708734\n",
      "test rmse: 39657.88829061468\n",
      "test r2: 0.771140611286574\n"
     ]
    }
   ],
   "source": [
    "#pasting with decision tree\n",
    "\n",
    "grid_search_pasting_dt = GridSearchCV(model_pasting_dt,bag_best_params, cv=5)\n",
    "grid_search_pasting_dt.fit(X_train,y_train)\n",
    "\n",
    "#best cv score, best parameters, MSE train\n",
    "print(grid_search_pasting_dt.best_params_)\n",
    "print(grid_search_pasting_dt.best_score_)\n",
    "X_train_pred = grid_search_pasting_dt.predict(X_train)\n",
    "print('train mse: {}'.format(mean_squared_error(y_train, X_train_pred)))\n",
    "print('train r2: {}'.format(r2_score(y_train, X_train_pred)))\n",
    "x_testpred = grid_search_pasting_dt.predict(X_test)\n",
    "print('test mse: {}'.format(mean_squared_error(y_test, x_testpred)))\n",
    "print('test rmse: {}'.format(sqrt(mean_squared_error(y_test, x_testpred))))\n",
    "print('test r2: {}'.format(r2_score(y_test, x_testpred)))"
   ]
  },
  {
   "cell_type": "code",
   "execution_count": 38,
   "metadata": {},
   "outputs": [
    {
     "name": "stdout",
     "output_type": "stream",
     "text": [
      "{'random_forest__max_depth': 15, 'random_forest__max_features': 30, 'random_forest__max_leaf_nodes': 30, 'random_forest__n_estimators': 500}\n",
      "0.8592041145606235\n",
      "train mse: 522789102.89559275\n",
      "train r2: 0.9162711115177896\n",
      "test mse: 949245466.0987024\n",
      "test rmse: 30809.827427278822\n",
      "test r2: 0.8618699735810951\n"
     ]
    }
   ],
   "source": [
    "#Random Forest\n",
    "\n",
    "grid_search_rf = GridSearchCV(model_random_forest,random_forest_params, cv=5)\n",
    "grid_search_rf.fit(X_train,y_train)\n",
    "\n",
    "#best cv score, best parameters, MSE train\n",
    "print(grid_search_rf.best_params_)\n",
    "print(grid_search_rf.best_score_)\n",
    "X_train_pred = grid_search_rf.predict(X_train)\n",
    "print('train mse: {}'.format(mean_squared_error(y_train, X_train_pred)))\n",
    "print('train r2: {}'.format(r2_score(y_train, X_train_pred)))\n",
    "x_testpred = grid_search_rf.predict(X_test)\n",
    "print('test mse: {}'.format(mean_squared_error(y_test, x_testpred)))\n",
    "print('test rmse: {}'.format(sqrt(mean_squared_error(y_test, x_testpred))))\n",
    "print('test r2: {}'.format(r2_score(y_test, x_testpred)))"
   ]
  },
  {
   "cell_type": "code",
   "execution_count": 39,
   "metadata": {},
   "outputs": [
    {
     "name": "stdout",
     "output_type": "stream",
     "text": [
      "{'learning_rate': 0.5, 'n_estimators': 200}\n",
      "0.8010113763601057\n",
      "train mse: 816967355.8050702\n",
      "train r2: 0.869156093252636\n",
      "test mse: 1070424584.7927455\n",
      "test rmse: 32717.34379182921\n",
      "test r2: 0.8442365210501906\n"
     ]
    }
   ],
   "source": [
    "#Ada Boost Decision Tree\n",
    "\n",
    "grid_search_ada_dt = GridSearchCV(model_ada_dt,ada_boost_params, cv=5)\n",
    "grid_search_ada_dt.fit(X_train,y_train)\n",
    "\n",
    "#best cv score, best parameters, MSE train\n",
    "print(grid_search_ada_dt.best_params_)\n",
    "print(grid_search_ada_dt.best_score_)\n",
    "X_train_pred = grid_search_ada_dt.predict(X_train)\n",
    "print('train mse: {}'.format(mean_squared_error(y_train, X_train_pred)))\n",
    "print('train r2: {}'.format(r2_score(y_train, X_train_pred)))\n",
    "x_testpred =grid_search_ada_dt.predict(X_test)\n",
    "print('test mse: {}'.format(mean_squared_error(y_test, x_testpred)))\n",
    "print('test rmse: {}'.format(sqrt(mean_squared_error(y_test, x_testpred))))\n",
    "print('test r2: {}'.format(r2_score(y_test, x_testpred)))"
   ]
  },
  {
   "cell_type": "code",
   "execution_count": 40,
   "metadata": {},
   "outputs": [
    {
     "name": "stdout",
     "output_type": "stream",
     "text": [
      "{'learning_rate': 0.1, 'n_estimators': 200}\n",
      "0.8349696353247023\n",
      "train mse: 673031784.6023625\n",
      "train r2: 0.8922085350941056\n",
      "test mse: 1149539679.9780738\n",
      "test rmse: 33904.86218786435\n",
      "test r2: 0.8327240402658502\n"
     ]
    }
   ],
   "source": [
    "#Ada Boost SVR\n",
    "grid_search_ada_svr = GridSearchCV(model_ada_svr,ada_boost_params, cv=5)\n",
    "grid_search_ada_svr.fit(X_train,y_train)\n",
    "\n",
    "#best cv score, best parameters, MSE train\n",
    "print(grid_search_ada_svr.best_params_)\n",
    "print(grid_search_ada_svr.best_score_)\n",
    "X_train_pred = grid_search_ada_svr.predict(X_train)\n",
    "print('train mse: {}'.format(mean_squared_error(y_train, X_train_pred)))\n",
    "print('train r2: {}'.format(r2_score(y_train, X_train_pred)))\n",
    "x_testpred =grid_search_ada_svr.predict(X_test)\n",
    "print('test mse: {}'.format(mean_squared_error(y_test, x_testpred)))\n",
    "print('test rmse: {}'.format(sqrt(mean_squared_error(y_test, x_testpred))))\n",
    "print('test r2: {}'.format(r2_score(y_test, x_testpred)))"
   ]
  },
  {
   "cell_type": "code",
   "execution_count": 41,
   "metadata": {},
   "outputs": [
    {
     "name": "stdout",
     "output_type": "stream",
     "text": [
      "{'learning_rate': 0.1, 'max_depth': 2, 'n_estimators': 200}\n",
      "0.8926108164366567\n",
      "train mse: 310508067.4508798\n",
      "train r2: 0.9502696303185693\n",
      "test mse: 826310514.6465408\n",
      "test rmse: 28745.617311975417\n",
      "test r2: 0.8797589271746098\n"
     ]
    }
   ],
   "source": [
    "#Gradient Boost\n",
    "\n",
    "grid_search_gbr = GridSearchCV(model_gbr,gbr_params, cv=5)\n",
    "grid_search_gbr.fit(X_train,y_train)\n",
    "\n",
    "#best cv score, best parameters, MSE train\n",
    "print(grid_search_gbr.best_params_)\n",
    "print(grid_search_gbr.best_score_)\n",
    "X_train_pred = grid_search_gbr.predict(X_train)\n",
    "print('train mse: {}'.format(mean_squared_error(y_train, X_train_pred)))\n",
    "print('train r2: {}'.format(r2_score(y_train, X_train_pred)))\n",
    "x_testpred =grid_search_gbr.predict(X_test)\n",
    "print('test mse: {}'.format(mean_squared_error(y_test, x_testpred)))\n",
    "print('test rmse: {}'.format(sqrt(mean_squared_error(y_test, x_testpred))))\n",
    "print('test r2: {}'.format(r2_score(y_test, x_testpred)))"
   ]
  },
  {
   "cell_type": "code",
   "execution_count": 42,
   "metadata": {},
   "outputs": [
    {
     "name": "stdout",
     "output_type": "stream",
     "text": [
      "{'learning_rate': 0.1, 'max_depth': 2, 'n_estimators': 500}\n",
      "0.8924888852513666\n",
      "train mse: 228450778.96277493\n",
      "train r2: 0.9634117664474955\n",
      "test mse: 730919782.1334028\n",
      "test rmse: 27035.528146004523\n",
      "test r2: 0.8936397671393365\n"
     ]
    }
   ],
   "source": [
    "#Xboost\n",
    "\n",
    "grid_search_xgb = GridSearchCV(model_xgboost,xgboost_params, cv=5)\n",
    "grid_search_xgb.fit(X_train,y_train)\n",
    "\n",
    "#best cv score, best parameters, MSE train\n",
    "print(grid_search_xgb.best_params_)\n",
    "print(grid_search_xgb.best_score_)\n",
    "X_train_pred = grid_search_xgb.predict(X_train)\n",
    "print('train mse: {}'.format(mean_squared_error(y_train, X_train_pred)))\n",
    "print('train r2: {}'.format(r2_score(y_train, X_train_pred)))\n",
    "x_testpred =grid_search_xgb.predict(X_test)\n",
    "print('test mse: {}'.format(mean_squared_error(y_test, x_testpred)))\n",
    "print('test rmse: {}'.format(sqrt(mean_squared_error(y_test, x_testpred))))\n",
    "print('test r2: {}'.format(r2_score(y_test, x_testpred)))"
   ]
  },
  {
   "cell_type": "code",
   "execution_count": 45,
   "metadata": {},
   "outputs": [
    {
     "name": "stdout",
     "output_type": "stream",
     "text": [
      "{'criterion': 'mse', 'max_depth': 6, 'max_features': 'auto', 'splitter': 'random'}\n",
      "0.7613424652480048\n",
      "train mse: 704749667.5247215\n",
      "train r2: 0.8871286604995727\n",
      "test mse: 1202053249.840322\n",
      "test rmse: 34670.6395937589\n",
      "test r2: 0.8250824964803052\n"
     ]
    }
   ],
   "source": [
    "#Extra Tree Regressor\n",
    "\n",
    "grid_search_etc = GridSearchCV(model_etc,etc_params, cv=5)\n",
    "grid_search_etc.fit(X_train,y_train)\n",
    "\n",
    "#best cv score, best parameters, MSE train\n",
    "print(grid_search_etc.best_params_)\n",
    "print(grid_search_etc.best_score_)\n",
    "X_train_pred = grid_search_etc.predict(X_train)\n",
    "print('train mse: {}'.format(mean_squared_error(y_train, X_train_pred)))\n",
    "print('train r2: {}'.format(r2_score(y_train, X_train_pred)))\n",
    "x_testpred =grid_search_etc.predict(X_test)\n",
    "print('test mse: {}'.format(mean_squared_error(y_test, x_testpred)))\n",
    "print('test rmse: {}'.format(sqrt(mean_squared_error(y_test, x_testpred))))\n",
    "print('test r2: {}'.format(r2_score(y_test, x_testpred)))"
   ]
  },
  {
   "cell_type": "code",
   "execution_count": 47,
   "metadata": {},
   "outputs": [],
   "source": [
    "regressors={'linreg':grid_search_housereg_pipe ,\n",
    "             'sgd':grid_search_housesgd_pipe,\n",
    "             'poly':grid_search_housepoly_pipe,\n",
    "             'knn': grid_search_houseknn_pipe,\n",
    "             'dtree':grid_search_housedt_pipe,\n",
    "             'svrkernel':grid_search_housesvr_pipe,\n",
    "             'bag_best':grid_search_bag,\n",
    "             'bag_dtree':grid_search_bag_dt,\n",
    "             'paste_best':grid_search_pasting,\n",
    "             'paste_dtree':grid_search_pasting_dt,\n",
    "             'rfc': grid_search_rf,\n",
    "             'etc': grid_search_etc,\n",
    "             'adc_dtree':grid_search_ada_dt,\n",
    "             'ada_svr': grid_search_ada_svr,\n",
    "             'gbc': grid_search_gbr,\n",
    "             'xgbc': grid_search_xgb,\n",
    "           }"
   ]
  },
  {
   "cell_type": "code",
   "execution_count": 48,
   "metadata": {},
   "outputs": [
    {
     "data": {
      "text/plain": [
       "dict_keys(['linreg', 'sgd', 'poly', 'knn', 'dtree', 'svrkernel', 'bag_best', 'bag_dtree', 'paste_best', 'paste_dtree', 'rfc', 'etc', 'adc_dtree', 'ada_svr', 'gbc', 'xgbc'])"
      ]
     },
     "execution_count": 48,
     "metadata": {},
     "output_type": "execute_result"
    }
   ],
   "source": [
    "regressors.keys()"
   ]
  },
  {
   "cell_type": "code",
   "execution_count": 50,
   "metadata": {},
   "outputs": [],
   "source": [
    "results_mean_std = []\n",
    "for  key, value in regressors.items():\n",
    "    mean = value.cv_results_['mean_test_score'][value.best_index_]\n",
    "    std=value.cv_results_['std_test_score'][value.best_index_]\n",
    "     \n",
    "    results_mean_std.append({\n",
    "        \"model\": key,\n",
    "        \"mean\": mean,\n",
    "        \"std\": std\n",
    "    })"
   ]
  },
  {
   "cell_type": "code",
   "execution_count": 51,
   "metadata": {},
   "outputs": [],
   "source": [
    "# Create a Pandas DataFrame with the mean+std results\n",
    "R2_df = pd.DataFrame(results_mean_std, columns=['model', 'mean', 'std'])"
   ]
  },
  {
   "cell_type": "code",
   "execution_count": 52,
   "metadata": {},
   "outputs": [
    {
     "data": {
      "text/html": [
       "<div>\n",
       "<style scoped>\n",
       "    .dataframe tbody tr th:only-of-type {\n",
       "        vertical-align: middle;\n",
       "    }\n",
       "\n",
       "    .dataframe tbody tr th {\n",
       "        vertical-align: top;\n",
       "    }\n",
       "\n",
       "    .dataframe thead th {\n",
       "        text-align: right;\n",
       "    }\n",
       "</style>\n",
       "<table border=\"1\" class=\"dataframe\">\n",
       "  <thead>\n",
       "    <tr style=\"text-align: right;\">\n",
       "      <th></th>\n",
       "      <th>model</th>\n",
       "      <th>mean</th>\n",
       "      <th>std</th>\n",
       "    </tr>\n",
       "  </thead>\n",
       "  <tbody>\n",
       "    <tr>\n",
       "      <th>14</th>\n",
       "      <td>gbc</td>\n",
       "      <td>8.926108e-01</td>\n",
       "      <td>1.060201e-02</td>\n",
       "    </tr>\n",
       "    <tr>\n",
       "      <th>15</th>\n",
       "      <td>xgbc</td>\n",
       "      <td>8.924889e-01</td>\n",
       "      <td>2.184404e-02</td>\n",
       "    </tr>\n",
       "    <tr>\n",
       "      <th>6</th>\n",
       "      <td>bag_best</td>\n",
       "      <td>8.886642e-01</td>\n",
       "      <td>9.896032e-03</td>\n",
       "    </tr>\n",
       "    <tr>\n",
       "      <th>8</th>\n",
       "      <td>paste_best</td>\n",
       "      <td>8.876004e-01</td>\n",
       "      <td>8.254707e-03</td>\n",
       "    </tr>\n",
       "    <tr>\n",
       "      <th>0</th>\n",
       "      <td>linreg</td>\n",
       "      <td>8.854256e-01</td>\n",
       "      <td>7.152564e-03</td>\n",
       "    </tr>\n",
       "    <tr>\n",
       "      <th>1</th>\n",
       "      <td>sgd</td>\n",
       "      <td>8.795180e-01</td>\n",
       "      <td>1.426131e-02</td>\n",
       "    </tr>\n",
       "    <tr>\n",
       "      <th>5</th>\n",
       "      <td>svrkernel</td>\n",
       "      <td>8.778846e-01</td>\n",
       "      <td>8.926488e-03</td>\n",
       "    </tr>\n",
       "    <tr>\n",
       "      <th>10</th>\n",
       "      <td>rfc</td>\n",
       "      <td>8.592041e-01</td>\n",
       "      <td>1.592986e-02</td>\n",
       "    </tr>\n",
       "    <tr>\n",
       "      <th>13</th>\n",
       "      <td>ada_svr</td>\n",
       "      <td>8.349696e-01</td>\n",
       "      <td>2.500796e-02</td>\n",
       "    </tr>\n",
       "    <tr>\n",
       "      <th>12</th>\n",
       "      <td>adc_dtree</td>\n",
       "      <td>8.010114e-01</td>\n",
       "      <td>1.509580e-02</td>\n",
       "    </tr>\n",
       "    <tr>\n",
       "      <th>7</th>\n",
       "      <td>bag_dtree</td>\n",
       "      <td>7.996634e-01</td>\n",
       "      <td>1.904699e-02</td>\n",
       "    </tr>\n",
       "    <tr>\n",
       "      <th>9</th>\n",
       "      <td>paste_dtree</td>\n",
       "      <td>7.981707e-01</td>\n",
       "      <td>1.985071e-02</td>\n",
       "    </tr>\n",
       "    <tr>\n",
       "      <th>3</th>\n",
       "      <td>knn</td>\n",
       "      <td>7.858742e-01</td>\n",
       "      <td>2.098588e-02</td>\n",
       "    </tr>\n",
       "    <tr>\n",
       "      <th>11</th>\n",
       "      <td>etc</td>\n",
       "      <td>7.613425e-01</td>\n",
       "      <td>4.128876e-02</td>\n",
       "    </tr>\n",
       "    <tr>\n",
       "      <th>4</th>\n",
       "      <td>dtree</td>\n",
       "      <td>6.587712e-01</td>\n",
       "      <td>3.383318e-02</td>\n",
       "    </tr>\n",
       "    <tr>\n",
       "      <th>2</th>\n",
       "      <td>poly</td>\n",
       "      <td>-6.113631e+32</td>\n",
       "      <td>1.218624e+33</td>\n",
       "    </tr>\n",
       "  </tbody>\n",
       "</table>\n",
       "</div>"
      ],
      "text/plain": [
       "          model          mean           std\n",
       "14          gbc  8.926108e-01  1.060201e-02\n",
       "15         xgbc  8.924889e-01  2.184404e-02\n",
       "6      bag_best  8.886642e-01  9.896032e-03\n",
       "8    paste_best  8.876004e-01  8.254707e-03\n",
       "0        linreg  8.854256e-01  7.152564e-03\n",
       "1           sgd  8.795180e-01  1.426131e-02\n",
       "5     svrkernel  8.778846e-01  8.926488e-03\n",
       "10          rfc  8.592041e-01  1.592986e-02\n",
       "13      ada_svr  8.349696e-01  2.500796e-02\n",
       "12    adc_dtree  8.010114e-01  1.509580e-02\n",
       "7     bag_dtree  7.996634e-01  1.904699e-02\n",
       "9   paste_dtree  7.981707e-01  1.985071e-02\n",
       "3           knn  7.858742e-01  2.098588e-02\n",
       "11          etc  7.613425e-01  4.128876e-02\n",
       "4         dtree  6.587712e-01  3.383318e-02\n",
       "2          poly -6.113631e+32  1.218624e+33"
      ]
     },
     "execution_count": 52,
     "metadata": {},
     "output_type": "execute_result"
    }
   ],
   "source": [
    "# Show the accuracy dataframe\n",
    "\n",
    "R2_df.sort_values(by=['mean'], inplace=True,ascending=False)\n",
    "R2_df"
   ]
  },
  {
   "cell_type": "code",
   "execution_count": 54,
   "metadata": {},
   "outputs": [],
   "source": [
    "# Create a prediction of all models on the test set\n",
    "predictions_all = {}\n",
    "for  key, value in regressors.items():\n",
    "    # Get best estimator\n",
    "    best_model = value.best_estimator_\n",
    "    \n",
    "    # Predict test labels\n",
    "    predictions = best_model.predict(X_test)\n",
    "    \n",
    "    # Save predictions to a list\n",
    "    predictions_all[key] = predictions"
   ]
  },
  {
   "cell_type": "code",
   "execution_count": 55,
   "metadata": {},
   "outputs": [],
   "source": [
    "# Creat a DataFrame for the predictions\n",
    "pred = pd.DataFrame(predictions_all)"
   ]
  },
  {
   "cell_type": "code",
   "execution_count": 56,
   "metadata": {},
   "outputs": [
    {
     "data": {
      "text/plain": [
       "Text(0.5, 1, 'Correlation of the test set label prediction between models')"
      ]
     },
     "execution_count": 56,
     "metadata": {},
     "output_type": "execute_result"
    },
    {
     "data": {
      "image/png": "[encoded data removed]",
      "text/plain": [
       "<Figure size 648x432 with 2 Axes>"
      ]
     },
     "metadata": {
      "needs_background": "light"
     },
     "output_type": "display_data"
    }
   ],
   "source": [
    "# Plot a heatmap of all correlations for easier visualization\n",
    "fig, ax = plt.subplots(nrows=1, ncols=1, figsize=(9,6))\n",
    "g = sns.heatmap(pred.corr(), annot=True, cmap='coolwarm', ax=ax)\n",
    "g.set_title('Correlation of the test set label prediction between models')"
   ]
  },
  {
   "cell_type": "code",
   "execution_count": 57,
   "metadata": {},
   "outputs": [],
   "source": [
    "def get_redundant_pairs(df):\n",
    "    '''Get diagonal and lower triangular pairs of correlation matrix'''\n",
    "    pairs_to_drop = set()\n",
    "    cols = df.columns\n",
    "    for i in range(0, df.shape[1]):\n",
    "        for j in range(0, i+1):\n",
    "            pairs_to_drop.add((cols[i], cols[j]))\n",
    "    return pairs_to_drop\n",
    "\n",
    "def get_top_abs_correlations(df, n=5):\n",
    "    au_corr = df.corr().abs().unstack()\n",
    "    labels_to_drop = get_redundant_pairs(df)\n",
    "    au_corr = au_corr.drop(labels=labels_to_drop).sort_values(ascending=True)\n",
    "    return au_corr[0:n]\n",
    "\n"
   ]
  },
  {
   "cell_type": "code",
   "execution_count": 58,
   "metadata": {},
   "outputs": [
    {
     "name": "stdout",
     "output_type": "stream",
     "text": [
      "Least Absolute Correlations\n",
      "poly  dtree          0.017446\n",
      "      adc_dtree      0.056123\n",
      "      bag_dtree      0.066492\n",
      "sgd   poly           0.068565\n",
      "poly  paste_dtree    0.069950\n",
      "dtype: float64\n"
     ]
    }
   ],
   "source": [
    "print(\"Least Absolute Correlations\")\n",
    "print(get_top_abs_correlations(pred, 5))"
   ]
  },
  {
   "cell_type": "code",
   "execution_count": 67,
   "metadata": {},
   "outputs": [
    {
     "name": "stdout",
     "output_type": "stream",
     "text": [
      "{'n_jobs': -1}\n",
      "0.8976522947122468\n",
      "train mse: 405322011.68574876\n",
      "train r2: 0.9350844129538046\n",
      "test mse: 738758631.0286127\n",
      "test rmse: 27180.114625008715\n",
      "test r2: 0.8924990923153214\n"
     ]
    }
   ],
   "source": [
    "#Top 5 best models - XGboost, Gradient Boost, Bagging with Lasso (best model), Pasting with Lasso (best model), Linear Regression\n",
    "from sklearn.ensemble import VotingRegressor\n",
    "\n",
    "vclf1 = VotingRegressor(estimators=\n",
    "                              [('gbc', grid_search_gbr.best_estimator_), \n",
    "                               ('xgbc', grid_search_xgb.best_estimator_), \n",
    "                               ('bag_best', grid_search_bag.best_estimator_),\n",
    "                               ('paste_best', grid_search_pasting.best_estimator_),\n",
    "                               ('linreg', grid_search_housereg_pipe.best_estimator_)\n",
    "                              ], )\n",
    "vclf1_param = {\n",
    "              'n_jobs' : [-1,1]\n",
    "             }\n",
    "voting_best5 = GridSearchCV(vclf1, vclf1_param,cv=5 )\n",
    "voting_best5.fit(X_train,y_train)\n",
    "\n",
    "#best cv score, best parameters, MSE train\n",
    "print(voting_best5.best_params_)\n",
    "print(voting_best5.best_score_)\n",
    "X_trainvt = voting_best5.predict(X_train)\n",
    "print('train mse: {}'.format(mean_squared_error(y_train, X_trainvt)))\n",
    "print('train r2: {}'.format(r2_score(y_train, X_trainvt)))\n",
    "x_testvt =voting_best5.predict(X_test)\n",
    "print('test mse: {}'.format(mean_squared_error(y_test, x_testvt)))\n",
    "print('test rmse: {}'.format(sqrt(mean_squared_error(y_test, x_testvt))))\n",
    "print('test r2: {}'.format(r2_score(y_test, x_testvt)))"
   ]
  },
  {
   "cell_type": "code",
   "execution_count": 68,
   "metadata": {},
   "outputs": [
    {
     "name": "stdout",
     "output_type": "stream",
     "text": [
      "{'n_jobs': 1}\n",
      "-9.637074847832025e+20\n",
      "train mse: 494762856.152841\n",
      "train r2: 0.9207597408237593\n",
      "test mse: 6.266596746972778e+28\n",
      "test rmse: 250331714869945.66\n",
      "test r2: -9.118876045555614e+18\n"
     ]
    }
   ],
   "source": [
    "#5 least correlated models - Polynomial, Decision Tree, Ada bosst with decision tree, bagging with decision tree, sgd, pasting with decision tree\n",
    "\n",
    "vclf2 = VotingRegressor(estimators=\n",
    "                              [('poly', grid_search_housepoly_pipe.best_estimator_), \n",
    "                               ( 'dtree',grid_search_housedt_pipe.best_estimator_), \n",
    "                               ('adc_dtree',grid_search_ada_dt.best_estimator_),\n",
    "                               ('bag_dtree',grid_search_bag_dt.best_estimator_),\n",
    "                               ('sgd',grid_search_housesgd_pipe.best_estimator_)\n",
    "                              ], )\n",
    "vclf2_param = {\n",
    "              'n_jobs' : [-1,1]\n",
    "             }\n",
    "voting_least5 = GridSearchCV(vclf2, vclf2_param,cv=5 )\n",
    "voting_least5.fit(X_train,y_train)\n",
    "\n",
    "#best cv score, best parameters, MSE train\n",
    "print(voting_least5.best_params_)\n",
    "print(voting_least5.best_score_)\n",
    "X_trainvt = voting_least5.predict(X_train)\n",
    "print('train mse: {}'.format(mean_squared_error(y_train, X_trainvt)))\n",
    "print('train r2: {}'.format(r2_score(y_train, X_trainvt)))\n",
    "x_testvt =voting_least5.predict(X_test)\n",
    "print('test mse: {}'.format(mean_squared_error(y_test, x_testvt)))\n",
    "print('test rmse: {}'.format(sqrt(mean_squared_error(y_test, x_testvt))))\n",
    "print('test r2: {}'.format(r2_score(y_test, x_testvt)))"
   ]
  },
  {
   "cell_type": "code",
   "execution_count": 72,
   "metadata": {},
   "outputs": [
    {
     "data": {
      "text/plain": [
       "GridSearchCV(cv=5, error_score=nan,\n",
       "             estimator=StackingRegressor(cv=None,\n",
       "                                         estimators=[('gbc',\n",
       "                                                      GradientBoostingRegressor(alpha=0.9,\n",
       "                                                                                ccp_alpha=0.0,\n",
       "                                                                                criterion='friedman_mse',\n",
       "                                                                                init=None,\n",
       "                                                                                learning_rate=0.1,\n",
       "                                                                                loss='ls',\n",
       "                                                                                max_depth=2,\n",
       "                                                                                max_features=None,\n",
       "                                                                                max_leaf_nodes=None,\n",
       "                                                                                min_impurity_decrease=0.0,\n",
       "                                                                                min_impurity_split=None,\n",
       "                                                                                min_samples_leaf=1,\n",
       "                                                                                min_samples_split=2,\n",
       "                                                                                min_weigh...\n",
       "                                                               fit_intercept=True,\n",
       "                                                               max_iter=1000,\n",
       "                                                               normalize=False,\n",
       "                                                               positive=False,\n",
       "                                                               precompute=False,\n",
       "                                                               random_state=None,\n",
       "                                                               selection='cyclic',\n",
       "                                                               tol=0.0001,\n",
       "                                                               warm_start=False),\n",
       "                                         n_jobs=None, passthrough=False,\n",
       "                                         verbose=0),\n",
       "             iid='deprecated', n_jobs=None,\n",
       "             param_grid={'n_jobs': [1, -1], 'passthrough': [True, False]},\n",
       "             pre_dispatch='2*n_jobs', refit=True, return_train_score=True,\n",
       "             scoring=None, verbose=0)"
      ]
     },
     "execution_count": 72,
     "metadata": {},
     "output_type": "execute_result"
    }
   ],
   "source": [
    "#Stacking with 5 best models \n",
    "\n",
    "from sklearn.ensemble import StackingRegressor\n",
    "\n",
    "#Stacking Top 5\n",
    "sclf1 = StackingRegressor(estimators=\n",
    "                              [('gbc', grid_search_gbr.best_estimator_), \n",
    "                               ('xgbc', grid_search_xgb.best_estimator_), \n",
    "                               ('bag_best', grid_search_bag.best_estimator_),\n",
    "                               ('paste_best', grid_search_pasting.best_estimator_),\n",
    "                               ('linreg', grid_search_housereg_pipe.best_estimator_)\n",
    "                              ], final_estimator=Lasso())\n",
    "sclf1_param = {\n",
    "              'n_jobs': [1,-1],\n",
    "              'passthrough': [True, False]\n",
    "             }\n",
    "sclf1_grid = GridSearchCV(sclf1, sclf1_param,cv=5, return_train_score=True, )\n",
    "sclf1_grid.fit(X_train,y_train)"
   ]
  },
  {
   "cell_type": "code",
   "execution_count": 73,
   "metadata": {},
   "outputs": [
    {
     "name": "stdout",
     "output_type": "stream",
     "text": [
      "{'n_jobs': -1, 'passthrough': False}\n",
      "0.8984223135004216\n",
      "train mse: 328542371.5328516\n",
      "train r2: 0.9473812911642712\n",
      "test mse: 715427977.6424278\n",
      "test rmse: 26747.485445223218\n",
      "test r2: 0.8958940664117991\n"
     ]
    }
   ],
   "source": [
    "#best cv score, best parameters, MSE train\n",
    "print(sclf1_grid.best_params_)\n",
    "print(sclf1_grid.best_score_)\n",
    "X_trainvt = sclf1_grid.predict(X_train)\n",
    "print('train mse: {}'.format(mean_squared_error(y_train, X_trainvt)))\n",
    "print('train r2: {}'.format(r2_score(y_train, X_trainvt)))\n",
    "x_testvt =sclf1_grid.predict(X_test)\n",
    "print('test mse: {}'.format(mean_squared_error(y_test, x_testvt)))\n",
    "print('test rmse: {}'.format(sqrt(mean_squared_error(y_test, x_testvt))))\n",
    "print('test r2: {}'.format(r2_score(y_test, x_testvt)))"
   ]
  },
  {
   "cell_type": "code",
   "execution_count": 74,
   "metadata": {},
   "outputs": [
    {
     "name": "stdout",
     "output_type": "stream",
     "text": [
      "{'n_jobs': 1, 'passthrough': True}\n",
      "0.864444668174789\n",
      "train mse: 889732192.991633\n",
      "train r2: 0.8575022180963348\n",
      "test mse: 942817105.4447632\n",
      "test rmse: 30705.326988077544\n",
      "test r2: 0.8628054003581207\n"
     ]
    }
   ],
   "source": [
    "#Stacking with least 5 correlated\n",
    "\n",
    "from sklearn.ensemble import StackingRegressor\n",
    "\n",
    "#Stacking Top 5\n",
    "sclf2 = StackingRegressor(estimators=\n",
    "                              [('poly', grid_search_housepoly_pipe.best_estimator_), \n",
    "                               ( 'dtree',grid_search_housedt_pipe.best_estimator_), \n",
    "                               ('adc_dtree',grid_search_ada_dt.best_estimator_),\n",
    "                               ('bag_dtree',grid_search_bag_dt.best_estimator_),\n",
    "                               ('sgd',grid_search_housesgd_pipe.best_estimator_)\n",
    "                              ], final_estimator=Lasso())\n",
    "sclf2_param = {\n",
    "              'n_jobs': [1,-1],\n",
    "              'passthrough': [True, False]\n",
    "             }\n",
    "sclf2_grid = GridSearchCV(sclf2, sclf2_param,cv=5, return_train_score=True, )\n",
    "sclf2_grid.fit(X_train,y_train)\n",
    "\n",
    "#best cv score, best parameters, MSE train\n",
    "print(sclf2_grid.best_params_)\n",
    "print(sclf2_grid.best_score_)\n",
    "X_trainvt = sclf2_grid.predict(X_train)\n",
    "print('train mse: {}'.format(mean_squared_error(y_train, X_trainvt)))\n",
    "print('train r2: {}'.format(r2_score(y_train, X_trainvt)))\n",
    "x_testvt =sclf2_grid.predict(X_test)\n",
    "print('test mse: {}'.format(mean_squared_error(y_test, x_testvt)))\n",
    "print('test rmse: {}'.format(sqrt(mean_squared_error(y_test, x_testvt))))\n",
    "print('test r2: {}'.format(r2_score(y_test, x_testvt)))"
   ]
  },
  {
   "cell_type": "code",
   "execution_count": 77,
   "metadata": {},
   "outputs": [
    {
     "name": "stdout",
     "output_type": "stream",
     "text": [
      "{'final_estimator__learning_rate': 0.01, 'final_estimator__max_depth': 2, 'final_estimator__n_estimators': 500}\n",
      "0.8712809541105914\n",
      "train mse: 566237098.0112711\n",
      "train r2: 0.909312564911391\n",
      "test mse: 822724845.4179257\n",
      "test rmse: 28683.180531766797\n",
      "test r2: 0.8802806979946629\n"
     ]
    }
   ],
   "source": [
    "#Stacking with least 2 correlated\n",
    "\n",
    "\n",
    "sclf3 = StackingRegressor(estimators=\n",
    "                              [('poly', grid_search_housepoly_pipe.best_estimator_), \n",
    "                               ( 'dtree',grid_search_housedt_pipe.best_estimator_), \n",
    "                               ('adc_dtree',grid_search_ada_dt.best_estimator_),\n",
    "                               ('bag_dtree',grid_search_bag_dt.best_estimator_),\n",
    "                               ('sgd',grid_search_housesgd_pipe.best_estimator_)\n",
    "                              ], final_estimator=XGBRegressor())\n",
    "sclf3_param = {\n",
    "                 'final_estimator__learning_rate': [0.01,0.1],\n",
    "                'final_estimator__max_depth': [2,4,6],\n",
    "               'final_estimator__n_estimators': [500]\n",
    "             }\n",
    "\n",
    "sclf3_grid = GridSearchCV(sclf3, sclf3_param,cv=5, return_train_score=True, )\n",
    "sclf3_grid.fit(X_train,y_train)\n",
    "\n",
    "#best cv score, best parameters, MSE train\n",
    "print(sclf3_grid.best_params_)\n",
    "print(sclf3_grid.best_score_)\n",
    "X_trainvt = sclf3_grid.predict(X_train)\n",
    "print('train mse: {}'.format(mean_squared_error(y_train, X_trainvt)))\n",
    "print('train r2: {}'.format(r2_score(y_train, X_trainvt)))\n",
    "x_testvt =sclf3_grid.predict(X_test)\n",
    "print('test mse: {}'.format(mean_squared_error(y_test, x_testvt)))\n",
    "print('test rmse: {}'.format(sqrt(mean_squared_error(y_test, x_testvt))))\n",
    "print('test r2: {}'.format(r2_score(y_test, x_testvt)))"
   ]
  },
  {
   "cell_type": "code",
   "execution_count": null,
   "metadata": {},
   "outputs": [],
   "source": []
  }
 ],
 "metadata": {
  "kernelspec": {
   "display_name": "Python 3",
   "language": "python",
   "name": "python3"
  },
  "language_info": {
   "codemirror_mode": {
    "name": "ipython",
    "version": 3
   },
   "file_extension": ".py",
   "mimetype": "text/x-python",
   "name": "python",
   "nbconvert_exporter": "python",
   "pygments_lexer": "ipython3",
   "version": "3.7.6"
  },
  "toc": {
   "base_numbering": 1,
   "nav_menu": {},
   "number_sections": true,
   "sideBar": false,
   "skip_h1_title": false,
   "title_cell": "Table of Contents",
   "title_sidebar": "Contents",
   "toc_cell": false,
   "toc_position": {
    "height": "583px",
    "left": "0px",
    "right": "1324px",
    "top": "107px",
    "width": "211.997px"
   },
   "toc_section_display": false,
   "toc_window_display": false
  },
  "varInspector": {
   "cols": {
    "lenName": 16,
    "lenType": 16,
    "lenVar": 40
   },
   "kernels_config": {
    "python": {
     "delete_cmd_postfix": "",
     "delete_cmd_prefix": "del ",
     "library": "var_list.py",
     "varRefreshCmd": "print(var_dic_list())"
    },
    "r": {
     "delete_cmd_postfix": ") ",
     "delete_cmd_prefix": "rm(",
     "library": "var_list.r",
     "varRefreshCmd": "cat(var_dic_list()) "
    }
   },
   "types_to_exclude": [
    "module",
    "function",
    "builtin_function_or_method",
    "instance",
    "_Feature"
   ],
   "window_display": false
  }
 },
 "nbformat": 4,
 "nbformat_minor": 2
}
